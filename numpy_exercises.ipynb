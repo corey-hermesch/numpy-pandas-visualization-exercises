{
 "cells": [
  {
   "cell_type": "code",
   "execution_count": 2,
   "id": "9b83e2c1",
   "metadata": {},
   "outputs": [],
   "source": [
    "import numpy as np"
   ]
  },
  {
   "cell_type": "code",
   "execution_count": 27,
   "id": "fbfe7fbd",
   "metadata": {},
   "outputs": [],
   "source": [
    "# Use the following code for questions below\n",
    "a = np.array([4, 10, 12, 23, -2, -1, 0, 0, 0, -6, 3, -7])\n"
   ]
  },
  {
   "cell_type": "code",
   "execution_count": 12,
   "id": "40d20cb8",
   "metadata": {},
   "outputs": [
    {
     "name": "stdout",
     "output_type": "stream",
     "text": [
      "[-2 -1 -6 -7]\n",
      "4\n"
     ]
    }
   ],
   "source": [
    "# 1. How many negative numbers are there?\n",
    "# Answer : 4\n",
    "neg_a = a[a<0]\n",
    "print(neg_a)\n",
    "print(len(neg_a))"
   ]
  },
  {
   "cell_type": "code",
   "execution_count": 13,
   "id": "604f4e62",
   "metadata": {},
   "outputs": [
    {
     "name": "stdout",
     "output_type": "stream",
     "text": [
      "[ 4 10 12 23  3]\n",
      "5\n"
     ]
    }
   ],
   "source": [
    "# 2. How many positive numbers are there?\n",
    "# Answer : 5\n",
    "\n",
    "pos_a = a[a>0]\n",
    "print(pos_a)\n",
    "print(len(pos_a))"
   ]
  },
  {
   "cell_type": "code",
   "execution_count": 14,
   "id": "6beaecf8",
   "metadata": {},
   "outputs": [
    {
     "name": "stdout",
     "output_type": "stream",
     "text": [
      "[ 4 10 12]\n",
      "3\n"
     ]
    }
   ],
   "source": [
    "#3. How many even positive numbers are there?\n",
    "# Answer : 3\n",
    "\n",
    "pos_even_a = a[(a > 0) & (a % 2 == 0)]\n",
    "print(pos_even_a)\n",
    "print(len(pos_even_a))"
   ]
  },
  {
   "cell_type": "code",
   "execution_count": 17,
   "id": "a6b94d58",
   "metadata": {},
   "outputs": [
    {
     "name": "stdout",
     "output_type": "stream",
     "text": [
      "3\n"
     ]
    }
   ],
   "source": [
    "#4. if you add 3 to each data point, how many positive numbers would there be?\n",
    "# Answer : 3\n",
    "\n",
    "print(len((a+3)[(a > 0) & (a % 2 == 0)]))"
   ]
  },
  {
   "cell_type": "code",
   "execution_count": 19,
   "id": "1a0d3511",
   "metadata": {},
   "outputs": [
    {
     "name": "stdout",
     "output_type": "stream",
     "text": [
      "a squared = [ 16 100 144 529   4   1   0   0   0  36   9  49]\n",
      "a_squared mean = 74.0\n",
      "a_squared standard deviation = 144.0243035046516\n"
     ]
    }
   ],
   "source": [
    "#5. If you squared each number, what would the new mean and standard deviation be?\n",
    "\n",
    "a_squared = a**2\n",
    "print(f\"a squared = {a_squared}\")\n",
    "print(f\"a_squared mean = {a_squared.mean()}\")\n",
    "print(f\"a_squared standard deviation = {a_squared.std()}\")"
   ]
  },
  {
   "cell_type": "code",
   "execution_count": 28,
   "id": "7de7cc38",
   "metadata": {},
   "outputs": [
    {
     "name": "stdout",
     "output_type": "stream",
     "text": [
      "3.0\n",
      "[  1.   7.   9.  20.  -5.  -4.  -3.  -3.  -3.  -9.   0. -10.]\n",
      "0.0\n"
     ]
    }
   ],
   "source": [
    "# 6. A common statistical operation on a dataset is centering. \n",
    "# This means to adjust the data such that the mean of the data is 0. \n",
    "# This is done by subtracting the mean from each data point. \n",
    "# Center the data set. \n",
    "\n",
    "print(a.mean())\n",
    "a_centered = a - a.mean()\n",
    "print(a_centered)\n",
    "print(a_centered.mean())"
   ]
  },
  {
   "cell_type": "code",
   "execution_count": 29,
   "id": "bc7ed061",
   "metadata": {},
   "outputs": [
    {
     "name": "stdout",
     "output_type": "stream",
     "text": [
      "[ 0.12403473  0.86824314  1.11631261  2.48069469 -0.62017367 -0.49613894\n",
      " -0.3721042  -0.3721042  -0.3721042  -1.11631261  0.         -1.24034735]\n"
     ]
    }
   ],
   "source": [
    "#7. Calculate the z-score for each data point. Recall z-score = (data point - mean) / std\n",
    "\n",
    "a_zscore = (a - a.mean()) / a.std()\n",
    "print(a_zscore)"
   ]
  },
  {
   "cell_type": "code",
   "execution_count": 50,
   "id": "7f71701c",
   "metadata": {},
   "outputs": [],
   "source": [
    "#8. More Numpy Practice\n",
    "# setup\n",
    "\n",
    "import numpy as np\n",
    "# Life w/o numpy to life with numpy\n",
    "\n",
    "## Setup 1\n",
    "a = [1, 2, 3, 4, 5, 6, 7, 8, 9, 10]\n",
    "\n",
    "# Use python's built in functionality/operators to determine the following:"
   ]
  },
  {
   "cell_type": "code",
   "execution_count": 54,
   "id": "0488509e",
   "metadata": {},
   "outputs": [
    {
     "name": "stdout",
     "output_type": "stream",
     "text": [
      "[ 1  2  3  4  5  6  7  8  9 10]\n",
      "55\n"
     ]
    }
   ],
   "source": [
    "# Exercise 1 - Make a variable called sum_of_a to hold the sum of all the numbers in above list\n",
    "\n",
    "a_array = np.array(a)\n",
    "sum_of_a = a_array.sum()\n",
    "print(a_array)\n",
    "print(sum_of_a)"
   ]
  },
  {
   "cell_type": "code",
   "execution_count": 38,
   "id": "dd6156eb",
   "metadata": {},
   "outputs": [
    {
     "name": "stdout",
     "output_type": "stream",
     "text": [
      "1\n"
     ]
    }
   ],
   "source": [
    "# Exercise 2 - Make a variable named min_of_a to hold the minimum of all the numbers in the above list\n",
    "\n",
    "min_of_a = a_array.min()\n",
    "print(min_of_a)"
   ]
  },
  {
   "cell_type": "code",
   "execution_count": 39,
   "id": "07f6f9ec",
   "metadata": {},
   "outputs": [
    {
     "name": "stdout",
     "output_type": "stream",
     "text": [
      "10\n"
     ]
    }
   ],
   "source": [
    "# Exercise 3 - Make a variable named max_of_a to hold the max number of all the numbers in the above list\n",
    "\n",
    "max_of_a = a_array.max()\n",
    "print(max_of_a)"
   ]
  },
  {
   "cell_type": "code",
   "execution_count": 40,
   "id": "05729d88",
   "metadata": {},
   "outputs": [
    {
     "name": "stdout",
     "output_type": "stream",
     "text": [
      "5.5\n"
     ]
    }
   ],
   "source": [
    "# Exercise 4 - Make a variable named mean_of_a to hold the average of all the numbers in the above list\n",
    "\n",
    "mean_of_a = a_array.mean()\n",
    "print(mean_of_a)"
   ]
  },
  {
   "cell_type": "code",
   "execution_count": 43,
   "id": "7821bf63",
   "metadata": {},
   "outputs": [
    {
     "name": "stdout",
     "output_type": "stream",
     "text": [
      "3628800\n"
     ]
    }
   ],
   "source": [
    "# Exercise 5 - Make a variable named product_of_a to hold the product of multiplying all the \n",
    "# numbers in the above list together\n",
    "\n",
    "product_of_a = a_array.cumprod()[-1]\n",
    "print(product_of_a)"
   ]
  },
  {
   "cell_type": "code",
   "execution_count": 46,
   "id": "e6eab3a4",
   "metadata": {},
   "outputs": [
    {
     "name": "stdout",
     "output_type": "stream",
     "text": [
      "[  1   4   9  16  25  36  49  64  81 100]\n"
     ]
    }
   ],
   "source": [
    "# Exercise 6 - Make a variable named squares_of_a. It should hold each number in a \n",
    "# squared like [1, 4, 9, 16, 25...]\n",
    "\n",
    "squares_of_a = np.arange(1,11) ** 2\n",
    "print(squares_of_a)"
   ]
  },
  {
   "cell_type": "code",
   "execution_count": 52,
   "id": "f4ba8626",
   "metadata": {},
   "outputs": [
    {
     "name": "stdout",
     "output_type": "stream",
     "text": [
      "[1 3 5 7 9]\n"
     ]
    }
   ],
   "source": [
    "# Exercise 7 - Make a variable named odds_in_a. It should hold only the odd numbers\n",
    "\n",
    "odds_in_a = a_array[a_array % 2 == 1]\n",
    "print (odds_in_a)"
   ]
  },
  {
   "cell_type": "code",
   "execution_count": 55,
   "id": "39bb6808",
   "metadata": {},
   "outputs": [
    {
     "name": "stdout",
     "output_type": "stream",
     "text": [
      "[ 2  4  6  8 10]\n"
     ]
    }
   ],
   "source": [
    "# Exercise 8 - Make a variable named evens_in_a. It should hold only the evens.\n",
    "\n",
    "evens_in_a = a_array[a_array % 2 == 0]\n",
    "print(evens_in_a)"
   ]
  },
  {
   "cell_type": "code",
   "execution_count": 57,
   "id": "dcc73174",
   "metadata": {},
   "outputs": [],
   "source": [
    "## What about life in two dimensions? A list of lists is matrix, a table, a spreadsheet, a chessboard...\n",
    "## Setup 2: Consider what it would take to find the sum, min, max, average, sum, product, and list of squares\n",
    "# for this list of two lists.\n",
    "b = [\n",
    "    [3, 4, 5],\n",
    "    [6, 7, 8]\n",
    "]\n",
    "\n"
   ]
  },
  {
   "cell_type": "code",
   "execution_count": 58,
   "id": "227100e2",
   "metadata": {},
   "outputs": [
    {
     "name": "stdout",
     "output_type": "stream",
     "text": [
      "for loop sum_of_b = 33\n",
      "33\n"
     ]
    }
   ],
   "source": [
    "# Exercise 1 - refactor the following to use numpy. Use sum_of_b as the variable. **Hint, you'll first need \n",
    "# to make sure that the \"b\" variable is a numpy array**\n",
    "sum_of_b = 0\n",
    "for row in b:\n",
    "    sum_of_b += sum(row)\n",
    "\n",
    "print(f\"for loop sum_of_b = {sum_of_b}\")\n",
    "\n",
    "b = np.array(b)\n",
    "sum_of_b = b.sum()\n",
    "print(sum_of_b)\n"
   ]
  },
  {
   "cell_type": "code",
   "execution_count": null,
   "id": "3f913063",
   "metadata": {},
   "outputs": [],
   "source": [
    "# Exercise 2 - refactor the following to use numpy. \n",
    "min_of_b = min(b[0]) if min(b[0]) <= min(b[1]) else min(b[1])  \n",
    "\n",
    "# Exercise 3 - refactor the following maximum calculation to find the answer with numpy.\n",
    "max_of_b = max(b[0]) if max(b[0]) >= max(b[1]) else max(b[1])\n",
    "\n",
    "\n",
    "# Exercise 4 - refactor the following using numpy to find the mean of b\n",
    "mean_of_b = (sum(b[0]) + sum(b[1])) / (len(b[0]) + len(b[1]))\n",
    "\n",
    "# Exercise 5 - refactor the following to use numpy for calculating the product of all numbers multiplied together.\n",
    "product_of_b = 1\n",
    "for row in b:\n",
    "    for number in row:\n",
    "        product_of_b *= number\n",
    "\n",
    "# Exercise 6 - refactor the following to use numpy to find the list of squares \n",
    "squares_of_b = []\n",
    "for row in b:\n",
    "    for number in row:\n",
    "        squares_of_b.append(number**2)\n",
    "\n",
    "\n",
    "# Exercise 7 - refactor using numpy to determine the odds_in_b\n",
    "odds_in_b = []\n",
    "for row in b:\n",
    "    for number in row:\n",
    "        if(number % 2 != 0):\n",
    "            odds_in_b.append(number)\n",
    "\n",
    "\n",
    "# Exercise 8 - refactor the following to use numpy to filter only the even numbers\n",
    "evens_in_b = []\n",
    "for row in b:\n",
    "    for number in row:\n",
    "        if(number % 2 == 0):\n",
    "            evens_in_b.append(number)\n",
    "\n",
    "# Exercise 9 - print out the shape of the array b.\n",
    "\n",
    "# Exercise 10 - transpose the array b.\n",
    "\n",
    "# Exercise 11 - reshape the array b to be a single list of 6 numbers. (1 x 6)\n",
    "\n",
    "# Exercise 12 - reshape the array b to be a list of 6 lists, each containing only 1 number (6 x 1)\n",
    "\n",
    "## Setup 3\n",
    "c = [\n",
    "    [1, 2, 3],\n",
    "    [4, 5, 6],\n",
    "    [7, 8, 9]\n",
    "]\n",
    "\n",
    "# HINT, you'll first need to make sure that the \"c\" variable is a numpy array prior to using numpy array methods.\n",
    "# Exercise 1 - Find the min, max, sum, and product of c.\n",
    "\n",
    "# Exercise 2 - Determine the standard deviation of c.\n",
    "\n",
    "# Exercise 3 - Determine the variance of c.\n",
    "\n",
    "# Exercise 4 - Print out the shape of the array c\n",
    "\n",
    "# Exercise 5 - Transpose c and print out transposed result.\n",
    "\n",
    "# Exercise 6 - Get the dot product of the array c with c. \n",
    "\n",
    "# Exercise 7 - Write the code necessary to sum up the result of c times c transposed. Answer should be 261\n",
    "\n",
    "# Exercise 8 - Write the code necessary to determine the product of c times c transposed. Answer should be 131681894400.\n",
    "\n",
    "\n",
    "## Setup 4\n",
    "d = [\n",
    "    [90, 30, 45, 0, 120, 180],\n",
    "    [45, -90, -30, 270, 90, 0],\n",
    "    [60, 45, -45, 90, -45, 180]\n",
    "]\n",
    "\n",
    "# Exercise 1 - Find the sine of all the numbers in d\n",
    "\n",
    "# Exercise 2 - Find the cosine of all the numbers in d\n",
    "\n",
    "# Exercise 3 - Find the tangent of all the numbers in d\n",
    "\n",
    "# Exercise 4 - Find all the negative numbers in d\n",
    "\n",
    "# Exercise 5 - Find all the positive numbers in d\n",
    "\n",
    "# Exercise 6 - Return an array of only the unique numbers in d.\n",
    "\n",
    "# Exercise 7 - Determine how many unique numbers there are in d.\n",
    "\n",
    "# Exercise 8 - Print out the shape of d.\n",
    "\n",
    "# Exercise 9 - Transpose and then print out the shape of d.\n",
    "\n",
    "# Exercise 10 - Reshape d into an array of 9 x 2"
   ]
  }
 ],
 "metadata": {
  "kernelspec": {
   "display_name": "Python 3 (ipykernel)",
   "language": "python",
   "name": "python3"
  },
  "language_info": {
   "codemirror_mode": {
    "name": "ipython",
    "version": 3
   },
   "file_extension": ".py",
   "mimetype": "text/x-python",
   "name": "python",
   "nbconvert_exporter": "python",
   "pygments_lexer": "ipython3",
   "version": "3.9.13"
  }
 },
 "nbformat": 4,
 "nbformat_minor": 5
}
