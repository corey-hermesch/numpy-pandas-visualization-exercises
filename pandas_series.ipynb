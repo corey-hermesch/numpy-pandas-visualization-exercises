{
 "cells": [
  {
   "cell_type": "code",
   "execution_count": 1,
   "id": "91301595",
   "metadata": {},
   "outputs": [],
   "source": [
    "# Pandas Exercises Part I\n",
    "import pandas as pd\n",
    "import numpy as np\n",
    "\n",
    "# from pydataset import data"
   ]
  },
  {
   "cell_type": "code",
   "execution_count": 2,
   "id": "b9488540",
   "metadata": {},
   "outputs": [],
   "source": [
    "fruits = pd.Series([\"kiwi\", \"mango\", \"strawberry\", \"pineapple\"\n",
    "                    , \"gala apple\", \"honeycrisp apple\", \"tomato\"\n",
    "                    , \"watermelon\", \"honeydew\", \"kiwi\", \"kiwi\"\n",
    "                    , \"kiwi\", \"mango\", \"blueberry\", \"blackberry\"\n",
    "                    , \"gooseberry\", \"papaya\"])"
   ]
  },
  {
   "cell_type": "code",
   "execution_count": 3,
   "id": "67ef6980",
   "metadata": {},
   "outputs": [
    {
     "name": "stdout",
     "output_type": "stream",
     "text": [
      "number of elements in fruits = \n",
      "17\n",
      "17\n"
     ]
    }
   ],
   "source": [
    "# 1. Determine number of elements in fruits\n",
    "\n",
    "print(\"number of elements in fruits = \")\n",
    "print(fruits.size)\n",
    "print(fruits.count())"
   ]
  },
  {
   "cell_type": "code",
   "execution_count": 4,
   "id": "8413e574",
   "metadata": {},
   "outputs": [
    {
     "name": "stdout",
     "output_type": "stream",
     "text": [
      "fruit index = \n",
      "[0, 1, 2, 3, 4, 5, 6, 7, 8, 9, 10, 11, 12, 13, 14, 15, 16]\n"
     ]
    }
   ],
   "source": [
    "# 2. Output only the index from fruits\n",
    "\n",
    "print(\"fruit index = \")\n",
    "print(list(fruits.index))"
   ]
  },
  {
   "cell_type": "code",
   "execution_count": 5,
   "id": "d2ae2164",
   "metadata": {},
   "outputs": [
    {
     "name": "stdout",
     "output_type": "stream",
     "text": [
      "fruit values = \n",
      "['kiwi' 'mango' 'strawberry' 'pineapple' 'gala apple' 'honeycrisp apple'\n",
      " 'tomato' 'watermelon' 'honeydew' 'kiwi' 'kiwi' 'kiwi' 'mango' 'blueberry'\n",
      " 'blackberry' 'gooseberry' 'papaya']\n"
     ]
    }
   ],
   "source": [
    "#3. Output only the values from fruits\n",
    "\n",
    "print(\"fruit values = \")\n",
    "print(fruits.values)"
   ]
  },
  {
   "cell_type": "code",
   "execution_count": 6,
   "id": "41c82b9e",
   "metadata": {},
   "outputs": [
    {
     "name": "stdout",
     "output_type": "stream",
     "text": [
      "fruits datatype = \n",
      "<class 'pandas.core.series.Series'>\n",
      "fruits.values datatype = \n",
      "<class 'numpy.ndarray'>\n",
      "fruits.index datatype = \n",
      "<class 'pandas.core.indexes.range.RangeIndex'>\n",
      "first element of fruit datatype = \n",
      "<class 'str'>\n"
     ]
    }
   ],
   "source": [
    "#4. Confirm data type of values in fruits\n",
    "\n",
    "print(\"fruits datatype = \")\n",
    "print(type(fruits))\n",
    "print(\"fruits.values datatype = \")\n",
    "print(type(fruits.values))\n",
    "print(\"fruits.index datatype = \")\n",
    "print(type(fruits.index))\n",
    "print(\"first element of fruit datatype = \")\n",
    "print(type(fruits.values[0]))"
   ]
  },
  {
   "cell_type": "code",
   "execution_count": 7,
   "id": "338bcfd1",
   "metadata": {},
   "outputs": [
    {
     "name": "stdout",
     "output_type": "stream",
     "text": [
      "first five values from fruits = \n",
      "0          kiwi\n",
      "1         mango\n",
      "2    strawberry\n",
      "3     pineapple\n",
      "4    gala apple\n",
      "dtype: object\n",
      "last two values from fruits = \n",
      "15    gooseberry\n",
      "16        papaya\n",
      "dtype: object\n",
      "two random fruits = \n",
      "blueberry\n",
      "kiwi\n",
      "13    blueberry\n",
      "3     pineapple\n",
      "dtype: object\n"
     ]
    }
   ],
   "source": [
    "#5. Output only the first five values from fruits. Output the last three values. \n",
    "# Output two random values from fruits.\n",
    "\n",
    "print(\"first five values from fruits = \")\n",
    "print(fruits.head(5))\n",
    "print(\"last two values from fruits = \")\n",
    "print(fruits.tail(2))\n",
    "print(\"two random fruits = \")\n",
    "\n",
    "print(fruits[round(np.random.rand() * 100 % 17, 0)])\n",
    "print(fruits[round(np.random.rand() * 100 % 17, 0)])\n",
    "# OR (easier)\n",
    "print(fruits.sample(2))"
   ]
  },
  {
   "cell_type": "code",
   "execution_count": 8,
   "id": "7dc4e716",
   "metadata": {},
   "outputs": [
    {
     "data": {
      "text/plain": [
       "count       17\n",
       "unique      13\n",
       "top       kiwi\n",
       "freq         4\n",
       "dtype: object"
      ]
     },
     "execution_count": 8,
     "metadata": {},
     "output_type": "execute_result"
    }
   ],
   "source": [
    "#6. Run the .describe() on fruits to see what info it returns when called on a Series with string values\n",
    "\n",
    "fruits.describe()\n"
   ]
  },
  {
   "cell_type": "code",
   "execution_count": 9,
   "id": "b599c530",
   "metadata": {},
   "outputs": [
    {
     "name": "stdout",
     "output_type": "stream",
     "text": [
      "The unique values in fruits = \n",
      "['kiwi' 'mango' 'strawberry' 'pineapple' 'gala apple' 'honeycrisp apple'\n",
      " 'tomato' 'watermelon' 'honeydew' 'blueberry' 'blackberry' 'gooseberry'\n",
      " 'papaya']\n",
      "{'mango', 'papaya', 'blackberry', 'honeycrisp apple', 'pineapple', 'honeydew', 'blueberry', 'kiwi', 'tomato', 'watermelon', 'strawberry', 'gala apple', 'gooseberry'}\n",
      "<class 'set'>\n"
     ]
    }
   ],
   "source": [
    "#7. run the code necessary to produce only the unique string values from fruits\n",
    "\n",
    "print(\"The unique values in fruits = \")\n",
    "print(fruits.unique())\n",
    "# OR\n",
    "print(set(fruits))\n",
    "print(type(set(fruits)))"
   ]
  },
  {
   "cell_type": "code",
   "execution_count": 10,
   "id": "965fe5a6",
   "metadata": {},
   "outputs": [
    {
     "name": "stdout",
     "output_type": "stream",
     "text": [
      "The number of each unique value in fruits and their count = \n",
      "kiwi                4\n",
      "mango               2\n",
      "strawberry          1\n",
      "pineapple           1\n",
      "gala apple          1\n",
      "honeycrisp apple    1\n",
      "tomato              1\n",
      "watermelon          1\n",
      "honeydew            1\n",
      "blueberry           1\n",
      "blackberry          1\n",
      "gooseberry          1\n",
      "papaya              1\n",
      "dtype: int64\n"
     ]
    }
   ],
   "source": [
    "#8. Determine how many times each unique string value occurs in fruits\n",
    "\n",
    "print(\"The number of each unique value in fruits and their count = \")\n",
    "print(fruits.value_counts())"
   ]
  },
  {
   "cell_type": "code",
   "execution_count": 11,
   "id": "96ec7109",
   "metadata": {},
   "outputs": [
    {
     "name": "stdout",
     "output_type": "stream",
     "text": [
      "The fruit that occurs most often in fruits = \n",
      "kiwi\n",
      "with 4 occurrences\n"
     ]
    },
    {
     "data": {
      "text/plain": [
       "kiwi    4\n",
       "dtype: int64"
      ]
     },
     "execution_count": 11,
     "metadata": {},
     "output_type": "execute_result"
    }
   ],
   "source": [
    "#9. Determine the string value that occurs most frequently in fruits\n",
    "\n",
    "print(\"The fruit that occurs most often in fruits = \")\n",
    "print(fruits.describe().top)\n",
    "print(f\"with {fruits.describe().freq} occurrences\")\n",
    "# OR\n",
    "fruits.value_counts().nlargest(n=1,keep='all')\n"
   ]
  },
  {
   "cell_type": "code",
   "execution_count": 12,
   "id": "359dd483",
   "metadata": {},
   "outputs": [
    {
     "name": "stdout",
     "output_type": "stream",
     "text": [
      "The fruits that occur least frequently in the fruits series = \n",
      "strawberry          1\n",
      "pineapple           1\n",
      "gala apple          1\n",
      "honeycrisp apple    1\n",
      "tomato              1\n",
      "watermelon          1\n",
      "honeydew            1\n",
      "blueberry           1\n",
      "blackberry          1\n",
      "gooseberry          1\n",
      "papaya              1\n",
      "dtype: int64\n"
     ]
    },
    {
     "data": {
      "text/plain": [
       "strawberry          1\n",
       "pineapple           1\n",
       "gala apple          1\n",
       "honeycrisp apple    1\n",
       "tomato              1\n",
       "watermelon          1\n",
       "honeydew            1\n",
       "blueberry           1\n",
       "blackberry          1\n",
       "gooseberry          1\n",
       "papaya              1\n",
       "dtype: int64"
      ]
     },
     "execution_count": 12,
     "metadata": {},
     "output_type": "execute_result"
    }
   ],
   "source": [
    "#10. Determine the string value that occurs least frequently in fruits\n",
    "\n",
    "# print(type(fruits.value_counts()))\n",
    "# a = fruits.value_counts()\n",
    "# print(a.min())\n",
    "\n",
    "print(\"The fruits that occur least frequently in the fruits series = \")\n",
    "print(fruits.value_counts()[fruits.value_counts() == fruits.value_counts().min()])\n",
    "# OR\n",
    "fruits.value_counts().nsmallest(n=1, keep='all')"
   ]
  },
  {
   "cell_type": "code",
   "execution_count": 13,
   "id": "a8846b68",
   "metadata": {},
   "outputs": [],
   "source": [
    "###### Exercises Part 2 #########\n",
    "# Explore more attributes and methods while you continue to work with the fruits Series.\n"
   ]
  },
  {
   "cell_type": "code",
   "execution_count": 14,
   "id": "0d0843c1",
   "metadata": {},
   "outputs": [
    {
     "name": "stdout",
     "output_type": "stream",
     "text": [
      "capitalized fruits = \n",
      "0                 Kiwi\n",
      "1                Mango\n",
      "2           Strawberry\n",
      "3            Pineapple\n",
      "4           Gala apple\n",
      "5     Honeycrisp apple\n",
      "6               Tomato\n",
      "7           Watermelon\n",
      "8             Honeydew\n",
      "9                 Kiwi\n",
      "10                Kiwi\n",
      "11                Kiwi\n",
      "12               Mango\n",
      "13           Blueberry\n",
      "14          Blackberry\n",
      "15          Gooseberry\n",
      "16              Papaya\n",
      "dtype: object\n"
     ]
    }
   ],
   "source": [
    "#     Capitalize all the string values in fruits.\n",
    "\n",
    "fruits\n",
    "cap_fruits = fruits.str.capitalize()\n",
    "print(\"capitalized fruits = \")\n",
    "print(cap_fruits)"
   ]
  },
  {
   "cell_type": "code",
   "execution_count": 15,
   "id": "b58d0d45",
   "metadata": {},
   "outputs": [
    {
     "name": "stdout",
     "output_type": "stream",
     "text": [
      "0     0\n",
      "1     1\n",
      "2     1\n",
      "3     1\n",
      "4     3\n",
      "5     1\n",
      "6     1\n",
      "7     1\n",
      "8     0\n",
      "9     0\n",
      "10    0\n",
      "11    0\n",
      "12    1\n",
      "13    0\n",
      "14    1\n",
      "15    0\n",
      "16    3\n",
      "dtype: int64\n",
      "The number of 'a's in all of the values in fruits = \n",
      "14\n"
     ]
    }
   ],
   "source": [
    "#     Count the letter \"a\" in all the string values (use string vectorization).\n",
    "\n",
    "print(fruits.str.count('a'))\n",
    "a_sum = sum(fruits.str.count('a'))\n",
    "print (\"The number of 'a's in all of the values in fruits = \")\n",
    "print (a_sum)"
   ]
  },
  {
   "cell_type": "code",
   "execution_count": 16,
   "id": "78441bb8",
   "metadata": {},
   "outputs": [
    {
     "name": "stdout",
     "output_type": "stream",
     "text": [
      "Here is a series with the vowel counts of each element:\n",
      "0     2\n",
      "1     2\n",
      "2     2\n",
      "3     4\n",
      "4     4\n",
      "5     5\n",
      "6     3\n",
      "7     4\n",
      "8     3\n",
      "9     2\n",
      "10    2\n",
      "11    2\n",
      "12    2\n",
      "13    3\n",
      "14    2\n",
      "15    4\n",
      "16    3\n",
      "dtype: int64\n",
      "Here is a DataFrame with the voel counts of each element:\n",
      "         fruit_names  vowel_counts\n",
      "0               kiwi             2\n",
      "1              mango             2\n",
      "2         strawberry             2\n",
      "3          pineapple             4\n",
      "4         gala apple             4\n",
      "5   honeycrisp apple             5\n",
      "6             tomato             3\n",
      "7         watermelon             4\n",
      "8           honeydew             3\n",
      "9               kiwi             2\n",
      "10              kiwi             2\n",
      "11              kiwi             2\n",
      "12             mango             2\n",
      "13         blueberry             3\n",
      "14        blackberry             2\n",
      "15        gooseberry             4\n",
      "16            papaya             3\n"
     ]
    }
   ],
   "source": [
    "#     Output the number of vowels in each and every string value.\n",
    "\n",
    "# vowels = list('aeiou')\n",
    "\n",
    "# for fruit in fruits:\n",
    "#     count = 0\n",
    "#     f_letter_list = list(fruit)\n",
    "#     for letter in f_letter_list:\n",
    "#         if letter in vowels:\n",
    "#             count += 1\n",
    "#     print(f\"{fruit} vowel count = {count}\")\n",
    "\n",
    "# There must be an easier way. I'll look for it later\n",
    "\n",
    "# Different way, maybe easier\n",
    "\n",
    "def count_vowels(s):\n",
    "    count = 0\n",
    "    for letter in s:\n",
    "        if letter in 'aeiou':\n",
    "            count += 1\n",
    "    return count\n",
    "print(\"Here is a series with the vowel counts of each element:\")\n",
    "print(fruits.apply(count_vowels))\n",
    "\n",
    "# A nicer display using a DataFrame\n",
    "fruits_df = pd.DataFrame(fruits)\n",
    "fruits_df = fruits_df.rename(columns={0:'fruit_names'})\n",
    "fruits_df['vowel_counts'] = fruits_df['fruit_names'].apply(count_vowels)\n",
    "print (\"Here is a DataFrame with the voel counts of each element:\")\n",
    "print(fruits_df)"
   ]
  },
  {
   "cell_type": "code",
   "execution_count": 17,
   "id": "f5ddfc0f",
   "metadata": {},
   "outputs": [
    {
     "name": "stdout",
     "output_type": "stream",
     "text": [
      "The longest string value from fruits = \n",
      "honeycrisp apple\n",
      "An easier way to get the fruit with the longest string value:\n",
      "5    honeycrisp apple\n",
      "dtype: object\n",
      "The answer below is wrong. See comments for explanation:\n",
      "papaya\n"
     ]
    }
   ],
   "source": [
    "#     Write the code to get the longest string value from fruits.\n",
    "\n",
    "fruits.describe()\n",
    "fruits.str.count('')\n",
    "f = fruits.str.count('')[fruits.str.count('') == fruits.str.count('').max()]\n",
    "i_value = list(f.index)[0]\n",
    "print(\"The longest string value from fruits = \")\n",
    "print(fruits[i_value])\n",
    "\n",
    "# Easier way below\n",
    "\n",
    "print(\"An easier way to get the fruit with the longest string value:\")\n",
    "print(fruits[fruits.apply(len) == fruits.apply(len).max()])\n",
    "\n",
    "# if you do it like below, you will get the element from the fruits Series\n",
    "# that has the index of the max length of any fruit (which isn't what we want).\n",
    "# So, the max length of the all the fruits is 16 (fruits[5] which is 'honeycrisp apple')\n",
    "# fruits[16] is 'papaya'\n",
    "print(\"The answer below is wrong. See comments for explanation:\")\n",
    "print(fruits[fruits.apply(len).max()])"
   ]
  },
  {
   "cell_type": "code",
   "execution_count": 18,
   "id": "8444eef1",
   "metadata": {},
   "outputs": [
    {
     "data": {
      "text/plain": [
       "2           strawberry\n",
       "3            pineapple\n",
       "4           gala apple\n",
       "5     honeycrisp apple\n",
       "6               tomato\n",
       "7           watermelon\n",
       "8             honeydew\n",
       "13           blueberry\n",
       "14          blackberry\n",
       "15          gooseberry\n",
       "16              papaya\n",
       "dtype: object"
      ]
     },
     "execution_count": 18,
     "metadata": {},
     "output_type": "execute_result"
    }
   ],
   "source": [
    "#     Write the code to get the string values with 5 or more letters in the name.\n",
    "\n",
    "def count_letters(s):\n",
    "    return len(s)\n",
    "\n",
    "fruits[fruits.apply(count_letters) > 5]\n",
    "# OR (easier way)\n",
    "fruits[fruits.apply(len) > 5]\n",
    "# OR\n",
    "fruits[fruits.str.len() > 5]"
   ]
  },
  {
   "cell_type": "code",
   "execution_count": 19,
   "id": "af61156d",
   "metadata": {},
   "outputs": [
    {
     "name": "stdout",
     "output_type": "stream",
     "text": [
      "The fruits that contain the letter 'o' two or more times = \n",
      "6         tomato\n",
      "15    gooseberry\n",
      "dtype: object\n",
      "An easier way using string vectorization and boolean mask: \n"
     ]
    },
    {
     "data": {
      "text/plain": [
       "6         tomato\n",
       "15    gooseberry\n",
       "dtype: object"
      ]
     },
     "execution_count": 19,
     "metadata": {},
     "output_type": "execute_result"
    }
   ],
   "source": [
    "#     Find the fruit(s) containing the letter \"o\" two or more times.\n",
    "\n",
    "def count_o(s):\n",
    "    return s.count('o')\n",
    "\n",
    "print(\"The fruits that contain the letter 'o' two or more times = \")\n",
    "print(fruits[fruits.apply(count_o) >= 2])\n",
    "\n",
    "# easier way\n",
    "print(\"An easier way using string vectorization and boolean mask: \")\n",
    "fruits[fruits.str.count('o') >= 2]\n"
   ]
  },
  {
   "cell_type": "code",
   "execution_count": 20,
   "id": "7953aafd",
   "metadata": {},
   "outputs": [
    {
     "name": "stdout",
     "output_type": "stream",
     "text": [
      "The elements of fruits that contain 'berry' = \n",
      "['strawberry', 'blueberry', 'blackberry', 'gooseberry']\n",
      "An easier way using string vectorization and boolean mask:\n",
      "2     strawberry\n",
      "13     blueberry\n",
      "14    blackberry\n",
      "15    gooseberry\n",
      "dtype: object\n"
     ]
    }
   ],
   "source": [
    "#     Write the code to get only the string values containing the substring \"berry\".\n",
    "def berry_test(s):\n",
    "    return \"berry\" in s\n",
    "\n",
    "print(\"The elements of fruits that contain 'berry' = \")\n",
    "print(list(fruits[fruits.apply(berry_test)]))\n",
    "print(\"An easier way using string vectorization and boolean mask:\")\n",
    "print(fruits[fruits.str.count('berry') >= 1])"
   ]
  },
  {
   "cell_type": "code",
   "execution_count": 21,
   "id": "181264ca",
   "metadata": {},
   "outputs": [
    {
     "name": "stdout",
     "output_type": "stream",
     "text": [
      "The elements of fruits that contain 'apple' = \n",
      "['pineapple', 'gala apple', 'honeycrisp apple']\n",
      "Another way using string vectorization and boolean mask\n",
      "3           pineapple\n",
      "4          gala apple\n",
      "5    honeycrisp apple\n",
      "dtype: object\n"
     ]
    }
   ],
   "source": [
    "#     Write the code to get only the string values containing the substring \"apple\".\n",
    "\n",
    "def apple_test(s):\n",
    "    return \"apple\" in s\n",
    "\n",
    "print(\"The elements of fruits that contain 'apple' = \")\n",
    "print(list(fruits[fruits.apply(apple_test)]))\n",
    "print(\"Another way using string vectorization and boolean mask\")\n",
    "print(fruits[fruits.str.count('apple') >= 1])"
   ]
  },
  {
   "cell_type": "code",
   "execution_count": 22,
   "id": "0f5d044e",
   "metadata": {},
   "outputs": [
    {
     "name": "stdout",
     "output_type": "stream",
     "text": [
      "The fruit that contains the most vowels = \n"
     ]
    },
    {
     "data": {
      "text/plain": [
       "5    honeycrisp apple\n",
       "dtype: object"
      ]
     },
     "execution_count": 22,
     "metadata": {},
     "output_type": "execute_result"
    }
   ],
   "source": [
    "#     Which string value contains the most vowels?\n",
    "\n",
    "def count_vowels(s):\n",
    "    count = 0\n",
    "    for letter in s:\n",
    "        if letter in 'aeiou':\n",
    "            count += 1\n",
    "    return count\n",
    "\n",
    "print(\"The fruit that contains the most vowels = \")\n",
    "fruits[fruits.apply(count_vowels).max()]\n",
    "# Above only prints the string, though\n",
    "# The code below will return the series \"5    honeycrisp apple\"\n",
    "fruits[fruits.apply(count_vowels) == fruits.apply(count_vowels).max()]"
   ]
  },
  {
   "cell_type": "code",
   "execution_count": 23,
   "id": "4a7c33ba",
   "metadata": {},
   "outputs": [
    {
     "data": {
      "text/plain": [
       "0      h\n",
       "1      n\n",
       "2      v\n",
       "3      i\n",
       "4      d\n",
       "      ..\n",
       "195    r\n",
       "196    o\n",
       "197    g\n",
       "198    u\n",
       "199    y\n",
       "Length: 200, dtype: object"
      ]
     },
     "execution_count": 23,
     "metadata": {},
     "output_type": "execute_result"
    }
   ],
   "source": [
    "####### Exercises Part 3 #########\n",
    "\n",
    "# Use pandas to create a Series named letters from the following string. The easiest way to make this string \n",
    "# into a Pandas series is to use list to convert each individual letter into a single string on a basic Python list.\n",
    "\n",
    "letters = list('hnvidduckkqxwymbimkccexbkmqygkxoyndmcxnwqarhyffsjpsrabtjzsypmzadfavyrnndndvswreauxovncxtwzpwejilzjrmmbbgbyxvjtewqthafnbkqplarokkyydtubbmnexoypulzwfhqvckdpqtpoppzqrmcvhhpwgjwupgzhiofohawytlsiyecuproguy')\n",
    "letters = pd.Series(letters)\n",
    "letters"
   ]
  },
  {
   "cell_type": "code",
   "execution_count": 50,
   "id": "fdcd546b",
   "metadata": {},
   "outputs": [
    {
     "name": "stdout",
     "output_type": "stream",
     "text": [
      "The letter that occurs most frequently = \n",
      "y\n",
      "and it occurs this many times\n",
      "13\n",
      "y    13\n",
      "dtype: int64\n",
      "y\n"
     ]
    }
   ],
   "source": [
    "#     Which letter occurs the most frequently in the letters Series?\n",
    "\n",
    "print(\"The letter that occurs most frequently = \")\n",
    "print(letters.describe().top)\n",
    "print(\"and it occurs this many times\")\n",
    "print(letters.describe().freq)\n",
    "# OR\n",
    "print(letters.value_counts().head(1))\n",
    "# OR\n",
    "print(letters.value_counts().idxmax())"
   ]
  },
  {
   "cell_type": "code",
   "execution_count": 52,
   "id": "6fcdc078",
   "metadata": {},
   "outputs": [
    {
     "name": "stdout",
     "output_type": "stream",
     "text": [
      "The letter that occurs the least frequently = \n",
      "d\n",
      "and it occurs this many times\n",
      "4\n",
      "l    4\n",
      "dtype: int64\n"
     ]
    }
   ],
   "source": [
    "#     Which letter occurs the Least frequently?\n",
    "\n",
    "#print(letters.value_counts())\n",
    "print(\"The letter that occurs the least frequently = \")\n",
    "print(letters[letters.value_counts().min()])\n",
    "print(\"and it occurs this many times\")\n",
    "print(letters.value_counts().min())\n",
    "# OR\n",
    "print(letters.value_counts().nsmallest(1))"
   ]
  },
  {
   "cell_type": "code",
   "execution_count": 54,
   "id": "14debdcf",
   "metadata": {},
   "outputs": [
    {
     "name": "stdout",
     "output_type": "stream",
     "text": [
      "The number of vowels in the series = \n",
      "34\n",
      "34\n"
     ]
    }
   ],
   "source": [
    "#     How many vowels are in the Series?\n",
    "\n",
    "print(\"The number of vowels in the series = \")\n",
    "# use count_vowels function defined above\n",
    "print(sum(letters.apply(count_vowels)))\n",
    "print(letters.apply(count_vowels).sum())"
   ]
  },
  {
   "cell_type": "code",
   "execution_count": 55,
   "id": "4aa91afc",
   "metadata": {},
   "outputs": [
    {
     "name": "stdout",
     "output_type": "stream",
     "text": [
      "The number of consonants in the series = \n",
      "166\n",
      "-234\n"
     ]
    }
   ],
   "source": [
    "#     How many consonants are in the Series?\n",
    "\n",
    "def count_consonants(s):\n",
    "    count = 0\n",
    "    for letter in s:\n",
    "        if letter not in 'aeiou':\n",
    "            count += 1\n",
    "    return count\n",
    "\n",
    "print(\"The number of consonants in the series = \")\n",
    "print(sum(letters.apply(count_consonants)))\n",
    "# The following uses the bitwise operator for not: '~'\n",
    "# It doesn't work because I wasn't returning True or False; I was returning a count\n",
    "print((~letters.apply(count_vowels)).sum())"
   ]
  },
  {
   "cell_type": "code",
   "execution_count": 28,
   "id": "657bfb10",
   "metadata": {},
   "outputs": [
    {
     "data": {
      "text/plain": [
       "0      H\n",
       "1      N\n",
       "2      V\n",
       "3      I\n",
       "4      D\n",
       "      ..\n",
       "195    R\n",
       "196    O\n",
       "197    G\n",
       "198    U\n",
       "199    Y\n",
       "Length: 200, dtype: object"
      ]
     },
     "execution_count": 28,
     "metadata": {},
     "output_type": "execute_result"
    }
   ],
   "source": [
    "#     Create a Series that has all of the same letters but uppercased.\n",
    "\n",
    "cap_letters = letters.str.upper()\n",
    "cap_letters"
   ]
  },
  {
   "cell_type": "code",
   "execution_count": 56,
   "id": "88a8d924",
   "metadata": {},
   "outputs": [
    {
     "name": "stdout",
     "output_type": "stream",
     "text": [
      "y    13\n",
      "p    12\n",
      "w    10\n",
      "b     9\n",
      "n     9\n",
      "k     9\n",
      "m     9\n",
      "r     8\n",
      "a     8\n",
      "o     8\n",
      "h     8\n",
      "x     8\n",
      "q     8\n",
      "c     8\n",
      "d     8\n",
      "u     7\n",
      "v     7\n",
      "t     7\n",
      "z     7\n",
      "e     6\n",
      "f     6\n",
      "j     6\n",
      "g     5\n",
      "i     5\n",
      "s     5\n",
      "l     4\n",
      "dtype: int64\n"
     ]
    },
    {
     "data": {
      "text/plain": [
       "<AxesSubplot:>"
      ]
     },
     "execution_count": 56,
     "metadata": {},
     "output_type": "execute_result"
    },
    {
     "data": {
      "image/png": "[encoded data removed]",
      "text/plain": [
       "<Figure size 640x480 with 1 Axes>"
      ]
     },
     "metadata": {},
     "output_type": "display_data"
    }
   ],
   "source": [
    "#     Create a bar plot of the frequencies of the 6 most commonly occuring letters.\n",
    "import matplotlib.pyplot as plt\n",
    "\n",
    "print(letters.value_counts())\n",
    "letters.value_counts().head(6).plot()\n",
    "# OR\n",
    "letters.value_counts().head(6).plot(kind='bar')"
   ]
  },
  {
   "cell_type": "code",
   "execution_count": 65,
   "id": "ae0e6d26",
   "metadata": {},
   "outputs": [],
   "source": [
    "# use pandas to create a Series named numbers from the following list\n",
    "\n",
    "numbers = pd.Series(['$796,459.41', '$278.60', '$482,571.67', '$4,503,915.98', '$2,121,418.3', '$1,260,813.3', '$87,231.01', '$1,509,175.45', '$4,138,548.00', '$2,848,913.80', '$594,715.39', '$4,789,988.17', '$4,513,644.5', '$3,191,059.97', '$1,758,712.24', '$4,338,283.54', '$4,738,303.38', '$2,791,759.67', '$769,681.94', '$452,650.23'])"
   ]
  },
  {
   "cell_type": "code",
   "execution_count": 31,
   "id": "7f30ed14",
   "metadata": {},
   "outputs": [
    {
     "name": "stdout",
     "output_type": "stream",
     "text": [
      "count              20\n",
      "unique             20\n",
      "top       $796,459.41\n",
      "freq                1\n",
      "dtype: object\n",
      "<class 'pandas.core.series.Series'>\n"
     ]
    }
   ],
   "source": [
    "#     What is the data type of the numbers Series?\n",
    "\n",
    "# numbers is a series with dtype object (strings)\n",
    "\n",
    "print(numbers.describe())\n",
    "print(type(numbers))"
   ]
  },
  {
   "cell_type": "code",
   "execution_count": 32,
   "id": "20fa5dae",
   "metadata": {},
   "outputs": [
    {
     "name": "stdout",
     "output_type": "stream",
     "text": [
      "The number of elemnts in the number Series = \n",
      "20\n"
     ]
    }
   ],
   "source": [
    "#     How many elements are in the number Series?\n",
    "\n",
    "print(\"The number of elemnts in the number Series = \")\n",
    "print(numbers.size)"
   ]
  },
  {
   "cell_type": "code",
   "execution_count": 69,
   "id": "e1f5c841",
   "metadata": {},
   "outputs": [
    {
     "data": {
      "text/plain": [
       "0      796459.41\n",
       "1         278.60\n",
       "2      482571.67\n",
       "3     4503915.98\n",
       "4      2121418.3\n",
       "5      1260813.3\n",
       "6       87231.01\n",
       "7     1509175.45\n",
       "8     4138548.00\n",
       "9     2848913.80\n",
       "10     594715.39\n",
       "11    4789988.17\n",
       "12     4513644.5\n",
       "13    3191059.97\n",
       "14    1758712.24\n",
       "15    4338283.54\n",
       "16    4738303.38\n",
       "17    2791759.67\n",
       "18     769681.94\n",
       "19     452650.23\n",
       "dtype: object"
      ]
     },
     "execution_count": 69,
     "metadata": {},
     "output_type": "execute_result"
    }
   ],
   "source": [
    "# Perform the necessary manipulations by accessing Series attributes and methods to convert the numbers \n",
    "# Series to a numeric data type.\n",
    "\n",
    "# test\n",
    "numbers[0].replace('$','').replace(',','')\n",
    "\n",
    "# better way than below\n",
    "float_numbers = numbers.str.replace('$','',regex=True).str.replace(',','',regex=True)\n",
    "float_numbers\n",
    "\n",
    "# OR\n",
    "\n",
    "# float_numbers = numbers.str.replace(['$,','']) # this isn't quite right\n",
    "\n",
    "# code to answer question\n",
    "# float_numbers = []\n",
    "# for number in numbers:\n",
    "#     float_numbers.append(float((number.replace('$','')).replace(',','')))\n",
    "# float_numbers = pd.Series(float_numbers)\n",
    "\n",
    "\n",
    "# print(float_numbers)\n"
   ]
  },
  {
   "cell_type": "code",
   "execution_count": 34,
   "id": "b84b74f9",
   "metadata": {},
   "outputs": [
    {
     "name": "stdout",
     "output_type": "stream",
     "text": [
      "The maximum value from the numbers series = \n",
      "4789988.17\n"
     ]
    }
   ],
   "source": [
    "#     Run the code to discover the maximum value from the Series.\n",
    "\n",
    "print(\"The maximum value from the numbers series = \")\n",
    "print(float_numbers.max())"
   ]
  },
  {
   "cell_type": "code",
   "execution_count": 35,
   "id": "6c2cf73e",
   "metadata": {},
   "outputs": [
    {
     "name": "stdout",
     "output_type": "stream",
     "text": [
      "The minimum value from the numbers series = \n",
      "278.6\n"
     ]
    }
   ],
   "source": [
    "#     Run the code to discover the minimum value from the Series.\n",
    "\n",
    "print(\"The minimum value from the numbers series = \")\n",
    "print(float_numbers.min())"
   ]
  },
  {
   "cell_type": "code",
   "execution_count": 36,
   "id": "950de930",
   "metadata": {},
   "outputs": [
    {
     "name": "stdout",
     "output_type": "stream",
     "text": [
      "The range of the values in the numbers series = \n",
      "278.6\n",
      "to\n",
      "4789988.17\n"
     ]
    }
   ],
   "source": [
    "#     What is the range of the values in the Series?\n",
    "\n",
    "print(\"The range of the values in the numbers series = \")\n",
    "print(float_numbers.sort_values().min())\n",
    "print(\"to\")\n",
    "print(float_numbers.sort_values().max())\n"
   ]
  },
  {
   "cell_type": "code",
   "execution_count": 37,
   "id": "5bffd2c5",
   "metadata": {},
   "outputs": [
    {
     "name": "stdout",
     "output_type": "stream",
     "text": [
      "(-4511.11, 1197705.993]       7\n",
      "(3592560.778, 4789988.17]     6\n",
      "(1197705.993, 2395133.385]    4\n",
      "(2395133.385, 3592560.778]    3\n",
      "dtype: int64\n"
     ]
    }
   ],
   "source": [
    "#     Bin the data into 4 equally sized intervals or bins and output how many values fall into each bin.\n",
    "\n",
    "bin_series = pd.cut(float_numbers, 4)\n",
    "print(bin_series.value_counts())"
   ]
  },
  {
   "cell_type": "code",
   "execution_count": 38,
   "id": "c2658f32",
   "metadata": {},
   "outputs": [],
   "source": [
    "#     Plot the binned data in a meaningful way. Be sure to include a title and axis labels.\n",
    "\n",
    "b_s_vc = bin_series.value_counts().sort_values(ascending = False) # or sort_index()"
   ]
  },
  {
   "cell_type": "code",
   "execution_count": 39,
   "id": "aa22acca",
   "metadata": {},
   "outputs": [
    {
     "data": {
      "text/plain": [
       "[Text(0.5, 0, 'Values'), Text(0, 0.5, 'Frequency')]"
      ]
     },
     "execution_count": 39,
     "metadata": {},
     "output_type": "execute_result"
    },
    {
     "data": {
      "image/png": "[encoded data removed]",
      "text/plain": [
       "<Figure size 640x480 with 1 Axes>"
      ]
     },
     "metadata": {},
     "output_type": "display_data"
    }
   ],
   "source": [
    "b_s_vc.plot.bar(title = 'Number of elements in 4 equally ranged bins',\n",
    "               ).set(xlabel='Values', ylabel = 'Frequency')\n",
    "\n",
    "# use matplotlib stuff plt.title ... then plt.show\n",
    "# that will get rid of the line at the top [Text(0.5), ..."
   ]
  },
  {
   "cell_type": "code",
   "execution_count": 40,
   "id": "82fe2a24",
   "metadata": {},
   "outputs": [],
   "source": [
    "# Use pandas to create a Series named exam_scores from the following list:\n",
    "\n",
    "exam_scores = pd.Series([60, 86, 75, 62, 93, 71, 60, 83, 95, 78, 65, 72, 69, 81, 96, 80, 85, 92, 82, 78])\n",
    "\n"
   ]
  },
  {
   "cell_type": "code",
   "execution_count": 41,
   "id": "68d415de",
   "metadata": {},
   "outputs": [
    {
     "name": "stdout",
     "output_type": "stream",
     "text": [
      "The number of elements in the exam_scores Series = \n",
      "20\n"
     ]
    }
   ],
   "source": [
    "#     How many elements are in the exam_scores Series?\n",
    "\n",
    "print(\"The number of elements in the exam_scores Series = \")\n",
    "print(exam_scores.size)"
   ]
  },
  {
   "cell_type": "code",
   "execution_count": 42,
   "id": "85abbf70",
   "metadata": {},
   "outputs": [
    {
     "name": "stdout",
     "output_type": "stream",
     "text": [
      "See below for the min, max, mean, median of exam_scores:\n",
      "count    20.000000\n",
      "mean     78.150000\n",
      "std      11.352139\n",
      "min      60.000000\n",
      "25%      70.500000\n",
      "50%      79.000000\n",
      "75%      85.250000\n",
      "max      96.000000\n",
      "dtype: float64\n",
      "median   79.0\n"
     ]
    }
   ],
   "source": [
    "#     Run the code to discover the minimum, the maximum, the mean, and the median scores for the exam_scores Series.\n",
    "\n",
    "print(\"See below for the min, max, mean, median of exam_scores:\")\n",
    "print(exam_scores.describe())\n",
    "print(f\"median   {exam_scores.median()}\")"
   ]
  },
  {
   "cell_type": "code",
   "execution_count": 71,
   "id": "c8b53a60",
   "metadata": {},
   "outputs": [
    {
     "data": {
      "text/plain": [
       "[Text(0.5, 0, 'Exam Scores'), Text(0, 0.5, 'Frequency')]"
      ]
     },
     "execution_count": 71,
     "metadata": {},
     "output_type": "execute_result"
    },
    {
     "data": {
      "image/png": "[encoded data removed]",
      "text/plain": [
       "<Figure size 640x480 with 1 Axes>"
      ]
     },
     "metadata": {},
     "output_type": "display_data"
    }
   ],
   "source": [
    "#     Plot the Series in a meaningful way and make sure your chart has a title and axis labels.\n",
    "\n",
    "bin_exams = pd.cut(exam_scores,[0,60,70,80,90,100])\n",
    "\n",
    "# below doesn't work:\n",
    "# bin_exams = pd.cut(exam_scores,[100, 90, 80, 70, 60, 0])\n",
    "\n",
    "bin_exams.value_counts(sort=False).plot.bar(title=\"Exam Scores, F-A\").set(xlabel=\"Exam Scores\", ylabel=\"Frequency\")"
   ]
  },
  {
   "cell_type": "code",
   "execution_count": 44,
   "id": "a742b4c3",
   "metadata": {},
   "outputs": [],
   "source": [
    "#     Write the code necessary to implement a curve for your exam_grades Series and save this as curved_grades. \n",
    "# Add the necessary points to the highest grade to make it 100, and add the same number of points to every other \n",
    "# score in the Series as well.\n",
    "\n",
    "curve_value = 100 - exam_scores.max()\n",
    "curved_grades = exam_scores + curve_value\n"
   ]
  },
  {
   "cell_type": "code",
   "execution_count": 45,
   "id": "eb8a70bd",
   "metadata": {},
   "outputs": [],
   "source": [
    "#     Use a method to convert each of the numeric values in the curved_grades Series into a categorical value \n",
    "# of letter grades. For example, 86 should be a 'B' and 95 should be an 'A'. Save this as a Series named \n",
    "# letter_grades.\n",
    "\n",
    "def get_letter_grade(score):\n",
    "    if score >= 90: return 'A'\n",
    "    if score >= 80: return 'B'\n",
    "    if score >= 70: return 'C'\n",
    "    if score >= 60: return 'D'\n",
    "    return 'F'\n",
    "\n",
    "letter_grades = curved_grades.apply(get_letter_grade)\n"
   ]
  },
  {
   "cell_type": "code",
   "execution_count": 46,
   "id": "dfd592f2",
   "metadata": {},
   "outputs": [
    {
     "data": {
      "text/plain": [
       "[Text(0.5, 0, 'Exam Letter Grades'), Text(0, 0.5, 'Frequency')]"
      ]
     },
     "execution_count": 46,
     "metadata": {},
     "output_type": "execute_result"
    },
    {
     "data": {
      "image/png": "[encoded data removed]",
      "text/plain": [
       "<Figure size 640x480 with 1 Axes>"
      ]
     },
     "metadata": {},
     "output_type": "display_data"
    }
   ],
   "source": [
    "#     Plot your new categorical letter_grades Series in a meaninful way and include a title and axis labels.\n",
    "letter_grades_counts = letter_grades.value_counts()\n",
    "sort_index = letter_grades_counts.index.sort_values()\n",
    "letter_grades_counts[sort_index].plot.bar(title = \"Exam Score Grades, A-F\").set(\n",
    "                                          xlabel = \"Exam Letter Grades\", ylabel = \"Frequency\")"
   ]
  },
  {
   "cell_type": "code",
   "execution_count": null,
   "id": "2f2dbc34",
   "metadata": {},
   "outputs": [],
   "source": []
  }
 ],
 "metadata": {
  "kernelspec": {
   "display_name": "Python 3 (ipykernel)",
   "language": "python",
   "name": "python3"
  },
  "language_info": {
   "codemirror_mode": {
    "name": "ipython",
    "version": 3
   },
   "file_extension": ".py",
   "mimetype": "text/x-python",
   "name": "python",
   "nbconvert_exporter": "python",
   "pygments_lexer": "ipython3",
   "version": "3.9.13"
  }
 },
 "nbformat": 4,
 "nbformat_minor": 5
}
