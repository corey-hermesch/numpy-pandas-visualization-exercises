{
 "cells": [
  {
   "cell_type": "code",
   "execution_count": 1,
   "id": "91301595",
   "metadata": {},
   "outputs": [],
   "source": [
    "# Pandas Exercises Part I\n",
    "import pandas as pd\n",
    "import numpy as np\n",
    "\n",
    "# from pydataset import data"
   ]
  },
  {
   "cell_type": "code",
   "execution_count": 2,
   "id": "b9488540",
   "metadata": {},
   "outputs": [],
   "source": [
    "fruits = pd.Series([\"kiwi\", \"mango\", \"strawberry\", \"pineapple\"\n",
    "                    , \"gala apple\", \"honeycrisp apple\", \"tomato\"\n",
    "                    , \"watermelon\", \"honeydew\", \"kiwi\", \"kiwi\"\n",
    "                    , \"kiwi\", \"mango\", \"blueberry\", \"blackberry\"\n",
    "                    , \"gooseberry\", \"papaya\"])"
   ]
  },
  {
   "cell_type": "code",
   "execution_count": 55,
   "id": "67ef6980",
   "metadata": {},
   "outputs": [
    {
     "name": "stdout",
     "output_type": "stream",
     "text": [
      "number of elements in fruits = \n",
      "17\n",
      "17\n"
     ]
    }
   ],
   "source": [
    "# 1. Determine number of elements in fruits\n",
    "\n",
    "print(\"number of elements in fruits = \")\n",
    "print(fruits.size)\n",
    "print(fruits.count())"
   ]
  },
  {
   "cell_type": "code",
   "execution_count": 37,
   "id": "8413e574",
   "metadata": {},
   "outputs": [
    {
     "name": "stdout",
     "output_type": "stream",
     "text": [
      "fruit index = \n",
      "[0, 1, 2, 3, 4, 5, 6, 7, 8, 9, 10, 11, 12, 13, 14, 15, 16]\n"
     ]
    }
   ],
   "source": [
    "# 2. Output only the index from fruits\n",
    "\n",
    "print(\"fruit index = \")\n",
    "print(list(fruits.index))"
   ]
  },
  {
   "cell_type": "code",
   "execution_count": 9,
   "id": "d2ae2164",
   "metadata": {},
   "outputs": [
    {
     "name": "stdout",
     "output_type": "stream",
     "text": [
      "fruit values = \n",
      "['kiwi' 'mango' 'strawberry' 'pineapple' 'gala apple' 'honeycrisp apple'\n",
      " 'tomato' 'watermelon' 'honeydew' 'kiwi' 'kiwi' 'kiwi' 'mango' 'blueberry'\n",
      " 'blackberry' 'gooseberry' 'papaya']\n"
     ]
    }
   ],
   "source": [
    "#3. Output only the values from fruits\n",
    "\n",
    "print(\"fruit values = \")\n",
    "print(fruits.values)"
   ]
  },
  {
   "cell_type": "code",
   "execution_count": 17,
   "id": "41c82b9e",
   "metadata": {},
   "outputs": [
    {
     "name": "stdout",
     "output_type": "stream",
     "text": [
      "fruits datatype = \n",
      "<class 'pandas.core.series.Series'>\n",
      "fruits.values datatype = \n",
      "<class 'numpy.ndarray'>\n",
      "first element of fruit datatype = \n",
      "<class 'str'>\n"
     ]
    }
   ],
   "source": [
    "#4. Confirm data type of values in fruits\n",
    "\n",
    "print(\"fruits datatype = \")\n",
    "print(type(fruits))\n",
    "print(\"fruits.values datatype = \")\n",
    "print(type(fruits.values))\n",
    "print(\"first element of fruit datatype = \")\n",
    "print(type(fruits.values[0]))"
   ]
  },
  {
   "cell_type": "code",
   "execution_count": 40,
   "id": "338bcfd1",
   "metadata": {},
   "outputs": [
    {
     "name": "stdout",
     "output_type": "stream",
     "text": [
      "first five values from fruits = \n",
      "0          kiwi\n",
      "1         mango\n",
      "2    strawberry\n",
      "3     pineapple\n",
      "4    gala apple\n",
      "dtype: object\n",
      "last two values from fruits = \n",
      "15    gooseberry\n",
      "16        papaya\n",
      "dtype: object\n",
      "two random fruits = \n",
      "gooseberry\n",
      "mango\n"
     ]
    }
   ],
   "source": [
    "#5. Output only the first five values from fruits. Output the last three values. \n",
    "# Output two random values from fruits.\n",
    "\n",
    "print(\"first five values from fruits = \")\n",
    "print(fruits.head(5))\n",
    "print(\"last two values from fruits = \")\n",
    "print(fruits.tail(2))\n",
    "print(\"two random fruits = \")\n",
    "\n",
    "print(fruits[round(np.random.rand() * 100 % 17, 0)])\n",
    "print(fruits[round(np.random.rand() * 100 % 17, 0)])\n"
   ]
  },
  {
   "cell_type": "code",
   "execution_count": 41,
   "id": "7dc4e716",
   "metadata": {},
   "outputs": [
    {
     "data": {
      "text/plain": [
       "count       17\n",
       "unique      13\n",
       "top       kiwi\n",
       "freq         4\n",
       "dtype: object"
      ]
     },
     "execution_count": 41,
     "metadata": {},
     "output_type": "execute_result"
    }
   ],
   "source": [
    "#6. Run the .describe() on fruits to see what info it returns when called on a Series with string values\n",
    "\n",
    "fruits.describe()"
   ]
  },
  {
   "cell_type": "code",
   "execution_count": 48,
   "id": "b599c530",
   "metadata": {},
   "outputs": [
    {
     "name": "stdout",
     "output_type": "stream",
     "text": [
      "The unique values in fruits = \n",
      "['kiwi' 'mango' 'strawberry' 'pineapple' 'gala apple' 'honeycrisp apple'\n",
      " 'tomato' 'watermelon' 'honeydew' 'blueberry' 'blackberry' 'gooseberry'\n",
      " 'papaya']\n"
     ]
    }
   ],
   "source": [
    "#7. run the code necessary to produce only the unique string values from fruits\n",
    "\n",
    "print(\"The unique values in fruits = \")\n",
    "print(fruits.unique())"
   ]
  },
  {
   "cell_type": "code",
   "execution_count": 49,
   "id": "965fe5a6",
   "metadata": {},
   "outputs": [
    {
     "name": "stdout",
     "output_type": "stream",
     "text": [
      "The number of each unique value in fruits and their count = \n",
      "kiwi                4\n",
      "mango               2\n",
      "strawberry          1\n",
      "pineapple           1\n",
      "gala apple          1\n",
      "honeycrisp apple    1\n",
      "tomato              1\n",
      "watermelon          1\n",
      "honeydew            1\n",
      "blueberry           1\n",
      "blackberry          1\n",
      "gooseberry          1\n",
      "papaya              1\n",
      "dtype: int64\n"
     ]
    }
   ],
   "source": [
    "#8. Determine how many times each unique string value occurs in fruits\n",
    "\n",
    "print(\"The number of each unique value in fruits and their count = \")\n",
    "print(fruits.value_counts())"
   ]
  },
  {
   "cell_type": "code",
   "execution_count": 58,
   "id": "96ec7109",
   "metadata": {},
   "outputs": [
    {
     "name": "stdout",
     "output_type": "stream",
     "text": [
      "The fruit that occurs most often in fruits = \n",
      "kiwi\n",
      "with 4 occurrences\n"
     ]
    }
   ],
   "source": [
    "#9. Determine the string value that occurs most frequently in fruits\n",
    "\n",
    "print(\"The fruit that occurs most often in fruits = \")\n",
    "print(fruits.describe().top)\n",
    "print(f\"with {fruits.describe().freq} occurrences\")\n"
   ]
  },
  {
   "cell_type": "code",
   "execution_count": 79,
   "id": "359dd483",
   "metadata": {},
   "outputs": [
    {
     "name": "stdout",
     "output_type": "stream",
     "text": [
      "The fruits that occur least frequently in the fruits series = \n",
      "strawberry          1\n",
      "pineapple           1\n",
      "gala apple          1\n",
      "honeycrisp apple    1\n",
      "tomato              1\n",
      "watermelon          1\n",
      "honeydew            1\n",
      "blueberry           1\n",
      "blackberry          1\n",
      "gooseberry          1\n",
      "papaya              1\n",
      "dtype: int64\n"
     ]
    }
   ],
   "source": [
    "#10. Determine the string value that occurs least frequently in fruits\n",
    "\n",
    "# print(type(fruits.value_counts()))\n",
    "# a = fruits.value_counts()\n",
    "# print(a.min())\n",
    "\n",
    "print(\"The fruits that occur least frequently in the fruits series = \")\n",
    "print(fruits.value_counts()[fruits.value_counts() == fruits.value_counts().min()])\n"
   ]
  },
  {
   "cell_type": "code",
   "execution_count": null,
   "id": "0c5b7e7d",
   "metadata": {},
   "outputs": [],
   "source": []
  }
 ],
 "metadata": {
  "kernelspec": {
   "display_name": "Python 3 (ipykernel)",
   "language": "python",
   "name": "python3"
  },
  "language_info": {
   "codemirror_mode": {
    "name": "ipython",
    "version": 3
   },
   "file_extension": ".py",
   "mimetype": "text/x-python",
   "name": "python",
   "nbconvert_exporter": "python",
   "pygments_lexer": "ipython3",
   "version": "3.9.13"
  }
 },
 "nbformat": 4,
 "nbformat_minor": 5
}
